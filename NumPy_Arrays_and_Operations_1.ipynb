{
 "cells": [
  {
   "cell_type": "markdown",
   "metadata": {
    "id": "F9WV06phx9CZ"
   },
   "source": [
    "# NumPy\n",
    "NumPy is a Linear Algebra Library in Python and it is the holy grail and the main building block of Data Science using Python. Almost all the libraries in the PyData Ecosystem rely on NumPy as one of their main building blocks.\n",
    "\n",
    "It is bound to several C libraries which makes NumPy one of the fastest libraries in Python.\n",
    "\n",
    "We will learn the basics of NumPy, to get started we need to install it!"
   ]
  },
  {
   "cell_type": "markdown",
   "metadata": {
    "id": "b6964KHMx9Cc"
   },
   "source": [
    "## Installation Instructions\n",
    "\n",
    "**It is highly recommended you install Python using the Anaconda distribution to make sure all underlying dependencies (such as Linear Algebra libraries) all sync up with the use of a conda install. If you don't have Anaconda, install NumPy by going to your terminal or command prompt and type:**\n",
    "    \n",
    "    !pip install numpy\n",
    "    conda install numpy\n",
    "    \n"
   ]
  },
  {
   "cell_type": "raw",
   "metadata": {
    "id": "yp10Ttfzg7zH"
   },
   "source": [
    "!pip install numpy"
   ]
  },
  {
   "cell_type": "markdown",
   "metadata": {
    "id": "PWYZNm8Kx9Ce"
   },
   "source": [
    "## Using NumPy\n",
    "\n",
    "Once you've installed NumPy you can import it as a library:"
   ]
  },
  {
   "cell_type": "code",
   "execution_count": 1,
   "metadata": {
    "id": "jgYIrfvWx9Cf"
   },
   "outputs": [],
   "source": [
    "import numpy as np "
   ]
  },
  {
   "cell_type": "markdown",
   "metadata": {
    "id": "_jtfQ1Rax9Cg"
   },
   "source": [
    "Numpy has many built-in functions and capabilities. We won't cover them all but instead we will focus on some of the most important aspects of Numpy: vectors,arrays,matrices, and number generation.\n",
    "\n",
    "# Numpy Arrays\n",
    "\n",
    "Numpy arrays essentially of two types: vectors and matrices. Vectors are strictly 1-D arrays and matrices are 2-D (Note: A matrix can still have only one row or one column).\n",
    "\n",
    "The following cells explain on creation of NumPy arrays.\n",
    "\n",
    "## Creating NumPy Arrays\n",
    "\n",
    "### From a Python List\n",
    "\n",
    "An array can be created by directly converting a list or list of lists:"
   ]
  },
  {
   "cell_type": "code",
   "execution_count": 3,
   "metadata": {
    "id": "vewGpIuQJxAc"
   },
   "outputs": [],
   "source": [
    "import numpy as np"
   ]
  },
  {
   "cell_type": "code",
   "execution_count": 4,
   "metadata": {
    "colab": {
     "base_uri": "https://localhost:8080/"
    },
    "executionInfo": {
     "elapsed": 437,
     "status": "ok",
     "timestamp": 1695546519856,
     "user": {
      "displayName": "Rama Chandra Kotturu",
      "userId": "02243285469857073193"
     },
     "user_tz": -330
    },
    "id": "iiUHHhjkJxAg",
    "outputId": "a867eda1-e76c-4b80-c81b-f5a7a5b94235"
   },
   "outputs": [
    {
     "data": {
      "text/plain": [
       "array([], dtype=float64)"
      ]
     },
     "execution_count": 4,
     "metadata": {},
     "output_type": "execute_result"
    }
   ],
   "source": [
    "  arr1 = np.array([])   # create an empty array\n",
    "  arr1"
   ]
  },
  {
   "cell_type": "code",
   "execution_count": 5,
   "metadata": {
    "colab": {
     "base_uri": "https://localhost:8080/"
    },
    "executionInfo": {
     "elapsed": 709,
     "status": "ok",
     "timestamp": 1695546544525,
     "user": {
      "displayName": "Rama Chandra Kotturu",
      "userId": "02243285469857073193"
     },
     "user_tz": -330
    },
    "id": "G0pGNKZ7cvQa",
    "outputId": "dd5470b2-95f1-4027-a263-eeeac8410e93"
   },
   "outputs": [
    {
     "data": {
      "text/plain": [
       "[]"
      ]
     },
     "execution_count": 5,
     "metadata": {},
     "output_type": "execute_result"
    }
   ],
   "source": [
    "l1=[]\n",
    "l1"
   ]
  },
  {
   "cell_type": "code",
   "execution_count": 6,
   "metadata": {
    "colab": {
     "base_uri": "https://localhost:8080/"
    },
    "executionInfo": {
     "elapsed": 432,
     "status": "ok",
     "timestamp": 1695546636728,
     "user": {
      "displayName": "Rama Chandra Kotturu",
      "userId": "02243285469857073193"
     },
     "user_tz": -330
    },
    "id": "Vvb1Lullx9Ch",
    "outputId": "2991ab27-e9d9-4ff0-ec6a-6d18ee300b30"
   },
   "outputs": [
    {
     "name": "stdout",
     "output_type": "stream",
     "text": [
      "[1, 2, 3, 4, 5]\n",
      "<class 'list'>\n"
     ]
    }
   ],
   "source": [
    "my_list = [1,2,3,4,5]\n",
    "print(my_list)\n",
    "print(type(my_list))"
   ]
  },
  {
   "cell_type": "code",
   "execution_count": 7,
   "metadata": {
    "id": "FJ7VRQSsx9Cj"
   },
   "outputs": [],
   "source": [
    "a=np.array(my_list)"
   ]
  },
  {
   "cell_type": "code",
   "execution_count": 8,
   "metadata": {
    "colab": {
     "base_uri": "https://localhost:8080/"
    },
    "executionInfo": {
     "elapsed": 498,
     "status": "ok",
     "timestamp": 1695546649239,
     "user": {
      "displayName": "Rama Chandra Kotturu",
      "userId": "02243285469857073193"
     },
     "user_tz": -330
    },
    "id": "FZKV4vtOg7zM",
    "outputId": "1fd9d7c8-5c0b-40f6-c513-b856b6d56d60"
   },
   "outputs": [
    {
     "data": {
      "text/plain": [
       "array([1, 2, 3, 4, 5])"
      ]
     },
     "execution_count": 8,
     "metadata": {},
     "output_type": "execute_result"
    }
   ],
   "source": [
    "a"
   ]
  },
  {
   "cell_type": "code",
   "execution_count": 9,
   "metadata": {
    "colab": {
     "base_uri": "https://localhost:8080/"
    },
    "executionInfo": {
     "elapsed": 10,
     "status": "ok",
     "timestamp": 1695546821262,
     "user": {
      "displayName": "Rama Chandra Kotturu",
      "userId": "02243285469857073193"
     },
     "user_tz": -330
    },
    "id": "re4GBp_HdZvB",
    "outputId": "83047364-9e1c-4f5b-d1fc-59670550a80d"
   },
   "outputs": [
    {
     "data": {
      "text/plain": [
       "[1, 2, 3, 4, 5, 2, 3]"
      ]
     },
     "execution_count": 9,
     "metadata": {},
     "output_type": "execute_result"
    }
   ],
   "source": [
    "my_list+[2,3]"
   ]
  },
  {
   "cell_type": "code",
   "execution_count": 10,
   "metadata": {
    "colab": {
     "base_uri": "https://localhost:8080/"
    },
    "executionInfo": {
     "elapsed": 455,
     "status": "ok",
     "timestamp": 1695546663518,
     "user": {
      "displayName": "Rama Chandra Kotturu",
      "userId": "02243285469857073193"
     },
     "user_tz": -330
    },
    "id": "yUEbLsdiJxAu",
    "outputId": "f7742aed-f8a8-48a3-c229-5015b82809bc"
   },
   "outputs": [
    {
     "data": {
      "text/plain": [
       "numpy.ndarray"
      ]
     },
     "execution_count": 10,
     "metadata": {},
     "output_type": "execute_result"
    }
   ],
   "source": [
    "type(a)   # ndarray is number dimension array"
   ]
  },
  {
   "cell_type": "code",
   "execution_count": 11,
   "metadata": {
    "colab": {
     "base_uri": "https://localhost:8080/"
    },
    "executionInfo": {
     "elapsed": 506,
     "status": "ok",
     "timestamp": 1695546853634,
     "user": {
      "displayName": "Rama Chandra Kotturu",
      "userId": "02243285469857073193"
     },
     "user_tz": -330
    },
    "id": "Ky3iGYQWJxAu",
    "outputId": "c41f9a75-e3b9-41b4-a375-225729a081cb"
   },
   "outputs": [
    {
     "data": {
      "text/plain": [
       "1"
      ]
     },
     "execution_count": 11,
     "metadata": {},
     "output_type": "execute_result"
    }
   ],
   "source": [
    "a.ndim  # number of dimensions in the array"
   ]
  },
  {
   "cell_type": "code",
   "execution_count": 12,
   "metadata": {
    "colab": {
     "base_uri": "https://localhost:8080/"
    },
    "executionInfo": {
     "elapsed": 522,
     "status": "ok",
     "timestamp": 1695546944879,
     "user": {
      "displayName": "Rama Chandra Kotturu",
      "userId": "02243285469857073193"
     },
     "user_tz": -330
    },
    "id": "w1viSdXSJxAv",
    "outputId": "efb2b7a6-c7bf-46b1-a6b3-c077ac2a7f0b"
   },
   "outputs": [
    {
     "data": {
      "text/plain": [
       "5"
      ]
     },
     "execution_count": 12,
     "metadata": {},
     "output_type": "execute_result"
    }
   ],
   "source": [
    "a.size  # size of an array is the no. of items"
   ]
  },
  {
   "cell_type": "code",
   "execution_count": 13,
   "metadata": {
    "colab": {
     "base_uri": "https://localhost:8080/"
    },
    "executionInfo": {
     "elapsed": 515,
     "status": "ok",
     "timestamp": 1695546961052,
     "user": {
      "displayName": "Rama Chandra Kotturu",
      "userId": "02243285469857073193"
     },
     "user_tz": -330
    },
    "id": "d4fH0ivxJxAw",
    "outputId": "0f27e9e0-418f-4eef-8129-4f7c5ecd6d2c"
   },
   "outputs": [
    {
     "data": {
      "text/plain": [
       "(5,)"
      ]
     },
     "execution_count": 13,
     "metadata": {},
     "output_type": "execute_result"
    }
   ],
   "source": [
    "a.shape # shape of array"
   ]
  },
  {
   "cell_type": "code",
   "execution_count": 14,
   "metadata": {},
   "outputs": [
    {
     "ename": "AttributeError",
     "evalue": "'list' object has no attribute 'size'",
     "output_type": "error",
     "traceback": [
      "\u001b[1;31m---------------------------------------------------------------------------\u001b[0m",
      "\u001b[1;31mAttributeError\u001b[0m                            Traceback (most recent call last)",
      "Cell \u001b[1;32mIn[14], line 1\u001b[0m\n\u001b[1;32m----> 1\u001b[0m my_list\u001b[38;5;241m.\u001b[39msize\n",
      "\u001b[1;31mAttributeError\u001b[0m: 'list' object has no attribute 'size'"
     ]
    }
   ],
   "source": [
    "my_list.size"
   ]
  },
  {
   "cell_type": "markdown",
   "metadata": {
    "id": "_oLf8UiWJxAw"
   },
   "source": [
    "#### Arrays can be of n dimensions."
   ]
  },
  {
   "cell_type": "code",
   "execution_count": 15,
   "metadata": {
    "colab": {
     "base_uri": "https://localhost:8080/"
    },
    "executionInfo": {
     "elapsed": 457,
     "status": "ok",
     "timestamp": 1695547064417,
     "user": {
      "displayName": "Rama Chandra Kotturu",
      "userId": "02243285469857073193"
     },
     "user_tz": -330
    },
    "id": "2mkVSsT8x9Cn",
    "outputId": "df7f9156-dd43-4c91-a1b3-3182a360b588"
   },
   "outputs": [
    {
     "data": {
      "text/plain": [
       "[[1, 2, 3, 4], [5, 6, 7, 8], [9, 10, 11, 12]]"
      ]
     },
     "execution_count": 15,
     "metadata": {},
     "output_type": "execute_result"
    }
   ],
   "source": [
    "my_matrix = [[1,2,3,4],[5,6,7,8],[9,10,11,12]] # list of lists\n",
    "my_matrix"
   ]
  },
  {
   "cell_type": "code",
   "execution_count": 16,
   "metadata": {
    "colab": {
     "base_uri": "https://localhost:8080/"
    },
    "executionInfo": {
     "elapsed": 11,
     "status": "ok",
     "timestamp": 1695547072901,
     "user": {
      "displayName": "Rama Chandra Kotturu",
      "userId": "02243285469857073193"
     },
     "user_tz": -330
    },
    "id": "BKYc1amPx9Cp",
    "outputId": "3ff37b4d-ff0b-4236-dec9-612e2333a2ad"
   },
   "outputs": [
    {
     "data": {
      "text/plain": [
       "array([[ 1,  2,  3,  4],\n",
       "       [ 5,  6,  7,  8],\n",
       "       [ 9, 10, 11, 12]])"
      ]
     },
     "execution_count": 16,
     "metadata": {},
     "output_type": "execute_result"
    }
   ],
   "source": [
    "b=np.array(my_matrix) # generates a 2-d array\n",
    "b"
   ]
  },
  {
   "cell_type": "code",
   "execution_count": 17,
   "metadata": {
    "colab": {
     "base_uri": "https://localhost:8080/"
    },
    "executionInfo": {
     "elapsed": 517,
     "status": "ok",
     "timestamp": 1695547096832,
     "user": {
      "displayName": "Rama Chandra Kotturu",
      "userId": "02243285469857073193"
     },
     "user_tz": -330
    },
    "id": "yIlSprCJg7zO",
    "outputId": "fd5c36ea-c8f0-4526-83d5-65a074419f8c"
   },
   "outputs": [
    {
     "name": "stdout",
     "output_type": "stream",
     "text": [
      "The Dimension of array 2\n"
     ]
    }
   ],
   "source": [
    "# Array summary\n",
    "print('The Dimension of array',b.ndim) # dimensions of given array"
   ]
  },
  {
   "cell_type": "code",
   "execution_count": 18,
   "metadata": {
    "colab": {
     "base_uri": "https://localhost:8080/"
    },
    "executionInfo": {
     "elapsed": 701,
     "status": "ok",
     "timestamp": 1695547104955,
     "user": {
      "displayName": "Rama Chandra Kotturu",
      "userId": "02243285469857073193"
     },
     "user_tz": -330
    },
    "id": "WGip-VPGg7zO",
    "outputId": "a51ff511-89c0-47be-a48b-7dafc5ea0dd6"
   },
   "outputs": [
    {
     "name": "stdout",
     "output_type": "stream",
     "text": [
      "The size of array: 12\n"
     ]
    }
   ],
   "source": [
    "print('The size of array:',b.size) # Number of elements in array"
   ]
  },
  {
   "cell_type": "code",
   "execution_count": 19,
   "metadata": {
    "colab": {
     "base_uri": "https://localhost:8080/"
    },
    "executionInfo": {
     "elapsed": 623,
     "status": "ok",
     "timestamp": 1695547119771,
     "user": {
      "displayName": "Rama Chandra Kotturu",
      "userId": "02243285469857073193"
     },
     "user_tz": -330
    },
    "id": "4h_1Gowlg7zO",
    "outputId": "ec68572c-0f96-48e2-c3d8-7f9794f66587"
   },
   "outputs": [
    {
     "name": "stdout",
     "output_type": "stream",
     "text": [
      "The datatype of element: int64\n"
     ]
    }
   ],
   "source": [
    "print('The datatype of element:',b.dtype) # Datatype of elements in array"
   ]
  },
  {
   "cell_type": "code",
   "execution_count": 20,
   "metadata": {
    "colab": {
     "base_uri": "https://localhost:8080/"
    },
    "executionInfo": {
     "elapsed": 517,
     "status": "ok",
     "timestamp": 1695547142301,
     "user": {
      "displayName": "Rama Chandra Kotturu",
      "userId": "02243285469857073193"
     },
     "user_tz": -330
    },
    "id": "1T3XoUerg7zP",
    "outputId": "d65765ff-0107-4580-d82d-03546d00fcca",
    "scrolled": true
   },
   "outputs": [
    {
     "name": "stdout",
     "output_type": "stream",
     "text": [
      "The type of structure: <class 'numpy.ndarray'>\n"
     ]
    }
   ],
   "source": [
    "print('The type of structure:',type(b))"
   ]
  },
  {
   "cell_type": "code",
   "execution_count": 21,
   "metadata": {
    "colab": {
     "base_uri": "https://localhost:8080/"
    },
    "executionInfo": {
     "elapsed": 4,
     "status": "ok",
     "timestamp": 1695547162780,
     "user": {
      "displayName": "Rama Chandra Kotturu",
      "userId": "02243285469857073193"
     },
     "user_tz": -330
    },
    "id": "FNeAjaTcg7zP",
    "outputId": "3e86f500-970b-4c0f-df9c-7be19f22dd91"
   },
   "outputs": [
    {
     "name": "stdout",
     "output_type": "stream",
     "text": [
      "The shape: (3, 4)\n"
     ]
    }
   ],
   "source": [
    "print('The shape:',b.shape)"
   ]
  },
  {
   "cell_type": "code",
   "execution_count": 22,
   "metadata": {
    "id": "9kefgNJgJxA1"
   },
   "outputs": [
    {
     "data": {
      "text/plain": [
       "(3, 4)"
      ]
     },
     "execution_count": 22,
     "metadata": {},
     "output_type": "execute_result"
    }
   ],
   "source": [
    "b.shape"
   ]
  },
  {
   "cell_type": "code",
   "execution_count": null,
   "metadata": {
    "id": "r3K2hbFZJxA2"
   },
   "outputs": [],
   "source": []
  },
  {
   "cell_type": "code",
   "execution_count": 23,
   "metadata": {
    "colab": {
     "base_uri": "https://localhost:8080/"
    },
    "executionInfo": {
     "elapsed": 759,
     "status": "ok",
     "timestamp": 1695547225182,
     "user": {
      "displayName": "Rama Chandra Kotturu",
      "userId": "02243285469857073193"
     },
     "user_tz": -330
    },
    "id": "eB7QsXg1JxA2",
    "outputId": "a3669db9-9eb9-4bf8-cce7-6aadc2e54b9b"
   },
   "outputs": [
    {
     "data": {
      "text/plain": [
       "array([[[ 1,  2,  3],\n",
       "        [ 4,  5,  6]],\n",
       "\n",
       "       [[ 7,  8,  9],\n",
       "        [10, 11, 12]]])"
      ]
     },
     "execution_count": 23,
     "metadata": {},
     "output_type": "execute_result"
    }
   ],
   "source": [
    "arr1= np.array([[[1,2,3],[4,5,6]], [[7,8,9],[10,11,12]]])\n",
    "arr1"
   ]
  },
  {
   "cell_type": "code",
   "execution_count": 24,
   "metadata": {
    "colab": {
     "base_uri": "https://localhost:8080/"
    },
    "executionInfo": {
     "elapsed": 520,
     "status": "ok",
     "timestamp": 1695547273379,
     "user": {
      "displayName": "Rama Chandra Kotturu",
      "userId": "02243285469857073193"
     },
     "user_tz": -330
    },
    "id": "ukqj44-kJxA3",
    "outputId": "bbb69f5f-334a-4e76-c5ac-2ade74fa0ae7"
   },
   "outputs": [
    {
     "data": {
      "text/plain": [
       "(2, 2, 3)"
      ]
     },
     "execution_count": 24,
     "metadata": {},
     "output_type": "execute_result"
    }
   ],
   "source": [
    "arr1.shape"
   ]
  },
  {
   "cell_type": "code",
   "execution_count": 25,
   "metadata": {
    "colab": {
     "base_uri": "https://localhost:8080/"
    },
    "executionInfo": {
     "elapsed": 11,
     "status": "ok",
     "timestamp": 1695547429540,
     "user": {
      "displayName": "Rama Chandra Kotturu",
      "userId": "02243285469857073193"
     },
     "user_tz": -330
    },
    "id": "O34la0Hhfo-8",
    "outputId": "ba4a1291-4084-4465-c1d5-4e3538fad68d"
   },
   "outputs": [
    {
     "data": {
      "text/plain": [
       "np.int64(6)"
      ]
     },
     "execution_count": 25,
     "metadata": {},
     "output_type": "execute_result"
    }
   ],
   "source": [
    "arr1[0][1][2]"
   ]
  },
  {
   "cell_type": "code",
   "execution_count": 26,
   "metadata": {
    "id": "NkZ9bOkLfoz7"
   },
   "outputs": [],
   "source": [
    "arr2=np.array([\"this\",'is'])"
   ]
  },
  {
   "cell_type": "code",
   "execution_count": 27,
   "metadata": {
    "colab": {
     "base_uri": "https://localhost:8080/"
    },
    "executionInfo": {
     "elapsed": 10,
     "status": "ok",
     "timestamp": 1695547493336,
     "user": {
      "displayName": "Rama Chandra Kotturu",
      "userId": "02243285469857073193"
     },
     "user_tz": -330
    },
    "id": "aB4GsqT-fonP",
    "outputId": "229f5923-6ba1-48d5-a0ef-dd0dda0ddc76"
   },
   "outputs": [
    {
     "data": {
      "text/plain": [
       "array(['this', 'is'], dtype='<U4')"
      ]
     },
     "execution_count": 27,
     "metadata": {},
     "output_type": "execute_result"
    }
   ],
   "source": [
    "arr2"
   ]
  },
  {
   "cell_type": "code",
   "execution_count": 28,
   "metadata": {
    "colab": {
     "base_uri": "https://localhost:8080/"
    },
    "executionInfo": {
     "elapsed": 9,
     "status": "ok",
     "timestamp": 1695547605363,
     "user": {
      "displayName": "Rama Chandra Kotturu",
      "userId": "02243285469857073193"
     },
     "user_tz": -330
    },
    "id": "28jPyYslfoIP",
    "outputId": "512f6f22-c394-4446-b707-2f11efdf744d"
   },
   "outputs": [
    {
     "data": {
      "text/plain": [
       "np.float64(12.75)"
      ]
     },
     "execution_count": 28,
     "metadata": {},
     "output_type": "execute_result"
    }
   ],
   "source": [
    "np.mean([1,2,3,45])"
   ]
  },
  {
   "cell_type": "markdown",
   "metadata": {
    "id": "CBWvGXItx9Cq"
   },
   "source": [
    "## Built-in Methods\n",
    "\n",
    "There are lots of built-in ways to generate Arrays"
   ]
  },
  {
   "cell_type": "markdown",
   "metadata": {
    "id": "v6DHmJMuJxA4"
   },
   "source": [
    "### Reshape function"
   ]
  },
  {
   "cell_type": "code",
   "execution_count": 29,
   "metadata": {
    "colab": {
     "base_uri": "https://localhost:8080/"
    },
    "executionInfo": {
     "elapsed": 8,
     "status": "ok",
     "timestamp": 1695547798624,
     "user": {
      "displayName": "Rama Chandra Kotturu",
      "userId": "02243285469857073193"
     },
     "user_tz": -330
    },
    "id": "tG94TZQmhgse",
    "outputId": "f346f846-1721-45b7-defa-464eb510666f"
   },
   "outputs": [
    {
     "data": {
      "text/plain": [
       "(2, 2, 3)"
      ]
     },
     "execution_count": 29,
     "metadata": {},
     "output_type": "execute_result"
    }
   ],
   "source": [
    "arr1.shape"
   ]
  },
  {
   "cell_type": "code",
   "execution_count": 30,
   "metadata": {
    "id": "Av6ij56eJxA4"
   },
   "outputs": [],
   "source": [
    "arr2=arr1.reshape((1,1,1,1,1,1,1,3,4))  # reshape function takes the new shape as its argument"
   ]
  },
  {
   "cell_type": "code",
   "execution_count": 31,
   "metadata": {
    "colab": {
     "base_uri": "https://localhost:8080/"
    },
    "executionInfo": {
     "elapsed": 4,
     "status": "ok",
     "timestamp": 1695547965197,
     "user": {
      "displayName": "Rama Chandra Kotturu",
      "userId": "02243285469857073193"
     },
     "user_tz": -330
    },
    "id": "EBrW0pA9hwL1",
    "outputId": "4a09192a-b96a-4681-bf98-5ffc4fd1e189"
   },
   "outputs": [
    {
     "data": {
      "text/plain": [
       "array([[[[[[[[[ 1,  2,  3,  4],\n",
       "              [ 5,  6,  7,  8],\n",
       "              [ 9, 10, 11, 12]]]]]]]]])"
      ]
     },
     "execution_count": 31,
     "metadata": {},
     "output_type": "execute_result"
    }
   ],
   "source": [
    "arr2"
   ]
  },
  {
   "cell_type": "code",
   "execution_count": 37,
   "metadata": {
    "colab": {
     "base_uri": "https://localhost:8080/"
    },
    "executionInfo": {
     "elapsed": 8,
     "status": "ok",
     "timestamp": 1695548012105,
     "user": {
      "displayName": "Rama Chandra Kotturu",
      "userId": "02243285469857073193"
     },
     "user_tz": -330
    },
    "id": "aAHkKmizJxA5",
    "outputId": "8f93956d-48d1-495d-8996-eb3f955737dc",
    "scrolled": true
   },
   "outputs": [
    {
     "data": {
      "text/plain": [
       "array([ 1,  2,  3,  4,  5,  6,  7,  8,  9, 10, 11, 12])"
      ]
     },
     "execution_count": 37,
     "metadata": {},
     "output_type": "execute_result"
    }
   ],
   "source": [
    "arr2.reshape(-1)"
   ]
  },
  {
   "cell_type": "markdown",
   "metadata": {
    "id": "5Cv-5217x9Cr"
   },
   "source": [
    "### arange\n",
    "\n",
    "Return evenly spaced values within a given interval."
   ]
  },
  {
   "cell_type": "code",
   "execution_count": null,
   "metadata": {
    "colab": {
     "base_uri": "https://localhost:8080/"
    },
    "executionInfo": {
     "elapsed": 518,
     "status": "ok",
     "timestamp": 1695548066582,
     "user": {
      "displayName": "Rama Chandra Kotturu",
      "userId": "02243285469857073193"
     },
     "user_tz": -330
    },
    "id": "RdQZ7p_ig7zQ",
    "outputId": "10a6fc19-05de-4338-bdd2-c8e2823eef3a"
   },
   "outputs": [
    {
     "data": {
      "text/plain": [
       "array([ 0,  1,  2,  3,  4,  5,  6,  7,  8,  9, 10, 11, 12, 13, 14])"
      ]
     },
     "execution_count": 52,
     "metadata": {},
     "output_type": "execute_result"
    }
   ],
   "source": [
    "np.arange(15) # end; default start at 0"
   ]
  },
  {
   "cell_type": "code",
   "execution_count": null,
   "metadata": {
    "colab": {
     "base_uri": "https://localhost:8080/"
    },
    "executionInfo": {
     "elapsed": 10,
     "status": "ok",
     "timestamp": 1695548085264,
     "user": {
      "displayName": "Rama Chandra Kotturu",
      "userId": "02243285469857073193"
     },
     "user_tz": -330
    },
    "id": "lb79mMCCJxA6",
    "outputId": "1790a60f-ad49-49fb-fc41-4bbe405c7737"
   },
   "outputs": [
    {
     "data": {
      "text/plain": [
       "array([ 2,  3,  4,  5,  6,  7,  8,  9, 10, 11, 12, 13, 14])"
      ]
     },
     "execution_count": 53,
     "metadata": {},
     "output_type": "execute_result"
    }
   ],
   "source": [
    "np.arange(2,15) # start, end and step"
   ]
  },
  {
   "cell_type": "code",
   "execution_count": null,
   "metadata": {
    "colab": {
     "base_uri": "https://localhost:8080/"
    },
    "executionInfo": {
     "elapsed": 4,
     "status": "ok",
     "timestamp": 1695548161747,
     "user": {
      "displayName": "Rama Chandra Kotturu",
      "userId": "02243285469857073193"
     },
     "user_tz": -330
    },
    "id": "mghsYj9Kx9Cu",
    "outputId": "15883be0-6bd5-414e-fda2-605f9cd47905"
   },
   "outputs": [
    {
     "data": {
      "text/plain": [
       "array([0, 2, 4, 6, 8])"
      ]
     },
     "execution_count": 58,
     "metadata": {},
     "output_type": "execute_result"
    }
   ],
   "source": [
    "np.arange(0,10,2) # start end and step"
   ]
  },
  {
   "cell_type": "markdown",
   "metadata": {
    "id": "Eoo2efIBx9Cw"
   },
   "source": [
    "### zeros and ones\n",
    "\n",
    "Generate arrays of zeros or ones"
   ]
  },
  {
   "cell_type": "code",
   "execution_count": null,
   "metadata": {
    "id": "ghWj3uvFJxA7"
   },
   "outputs": [],
   "source": [
    "import numpy as np"
   ]
  },
  {
   "cell_type": "code",
   "execution_count": null,
   "metadata": {
    "colab": {
     "base_uri": "https://localhost:8080/"
    },
    "executionInfo": {
     "elapsed": 619,
     "status": "ok",
     "timestamp": 1695548264011,
     "user": {
      "displayName": "Rama Chandra Kotturu",
      "userId": "02243285469857073193"
     },
     "user_tz": -330
    },
    "id": "M-EcBWFHx9Cw",
    "outputId": "5e15ecd4-aa9f-4f2a-c906-091b6fc44273"
   },
   "outputs": [
    {
     "data": {
      "text/plain": [
       "array([0., 0., 0.])"
      ]
     },
     "execution_count": 60,
     "metadata": {},
     "output_type": "execute_result"
    }
   ],
   "source": [
    "np.zeros(3) # Generates array in 1 dimension with all elements 0"
   ]
  },
  {
   "cell_type": "code",
   "execution_count": null,
   "metadata": {
    "colab": {
     "base_uri": "https://localhost:8080/"
    },
    "executionInfo": {
     "elapsed": 448,
     "status": "ok",
     "timestamp": 1695548271928,
     "user": {
      "displayName": "Rama Chandra Kotturu",
      "userId": "02243285469857073193"
     },
     "user_tz": -330
    },
    "id": "xlxP67Tpx9Cz",
    "outputId": "d98e2816-e0a8-4a35-a6df-d408eabfd8f0"
   },
   "outputs": [
    {
     "data": {
      "text/plain": [
       "array([[0., 0., 0., 0., 0.],\n",
       "       [0., 0., 0., 0., 0.],\n",
       "       [0., 0., 0., 0., 0.],\n",
       "       [0., 0., 0., 0., 0.],\n",
       "       [0., 0., 0., 0., 0.]])"
      ]
     },
     "execution_count": 61,
     "metadata": {},
     "output_type": "execute_result"
    }
   ],
   "source": [
    "np.zeros((5,5))  # Generates array in 2 diemnsions with all elements 0"
   ]
  },
  {
   "cell_type": "code",
   "execution_count": null,
   "metadata": {
    "colab": {
     "base_uri": "https://localhost:8080/"
    },
    "executionInfo": {
     "elapsed": 504,
     "status": "ok",
     "timestamp": 1695548468911,
     "user": {
      "displayName": "Rama Chandra Kotturu",
      "userId": "02243285469857073193"
     },
     "user_tz": -330
    },
    "id": "MtPqppv-x9C2",
    "outputId": "7e0c6ead-172d-45e3-d7d8-55bec5e7bec0"
   },
   "outputs": [
    {
     "data": {
      "text/plain": [
       "array([1., 1., 1.])"
      ]
     },
     "execution_count": 62,
     "metadata": {},
     "output_type": "execute_result"
    }
   ],
   "source": [
    "np.ones(3) # Generates array of 1 dimension where all elements are 1"
   ]
  },
  {
   "cell_type": "code",
   "execution_count": 58,
   "metadata": {
    "colab": {
     "base_uri": "https://localhost:8080/"
    },
    "executionInfo": {
     "elapsed": 601,
     "status": "ok",
     "timestamp": 1695548473724,
     "user": {
      "displayName": "Rama Chandra Kotturu",
      "userId": "02243285469857073193"
     },
     "user_tz": -330
    },
    "id": "uobcKhowg7zS",
    "outputId": "54068398-47d2-44e7-ab35-b303d46b3b52"
   },
   "outputs": [
    {
     "data": {
      "text/plain": [
       "array([[[1., 1., 1., 1., 1., 1.],\n",
       "        [1., 1., 1., 1., 1., 1.],\n",
       "        [1., 1., 1., 1., 1., 1.],\n",
       "        [1., 1., 1., 1., 1., 1.],\n",
       "        [1., 1., 1., 1., 1., 1.]],\n",
       "\n",
       "       [[1., 1., 1., 1., 1., 1.],\n",
       "        [1., 1., 1., 1., 1., 1.],\n",
       "        [1., 1., 1., 1., 1., 1.],\n",
       "        [1., 1., 1., 1., 1., 1.],\n",
       "        [1., 1., 1., 1., 1., 1.]],\n",
       "\n",
       "       [[1., 1., 1., 1., 1., 1.],\n",
       "        [1., 1., 1., 1., 1., 1.],\n",
       "        [1., 1., 1., 1., 1., 1.],\n",
       "        [1., 1., 1., 1., 1., 1.],\n",
       "        [1., 1., 1., 1., 1., 1.]],\n",
       "\n",
       "       [[1., 1., 1., 1., 1., 1.],\n",
       "        [1., 1., 1., 1., 1., 1.],\n",
       "        [1., 1., 1., 1., 1., 1.],\n",
       "        [1., 1., 1., 1., 1., 1.],\n",
       "        [1., 1., 1., 1., 1., 1.]]])"
      ]
     },
     "execution_count": 58,
     "metadata": {},
     "output_type": "execute_result"
    }
   ],
   "source": [
    "np.ones((4,5,6)) # Generates array of 3 dimensions where all elements are 1"
   ]
  },
  {
   "cell_type": "markdown",
   "metadata": {
    "id": "6xCoih_Nx9C5"
   },
   "source": [
    "### linspace\n",
    "Return evenly spaced numbers over a specified interval."
   ]
  },
  {
   "cell_type": "code",
   "execution_count": null,
   "metadata": {
    "id": "eDF4iM4aJxBL"
   },
   "outputs": [],
   "source": [
    "import numpy as np"
   ]
  },
  {
   "cell_type": "code",
   "execution_count": null,
   "metadata": {
    "colab": {
     "base_uri": "https://localhost:8080/"
    },
    "collapsed": true,
    "executionInfo": {
     "elapsed": 5,
     "status": "ok",
     "timestamp": 1695548490009,
     "user": {
      "displayName": "Rama Chandra Kotturu",
      "userId": "02243285469857073193"
     },
     "user_tz": -330
    },
    "id": "voj4yQH2JxBM",
    "jupyter": {
     "outputs_hidden": true
    },
    "outputId": "8b20fe65-4b23-4dfc-9d03-f486c1b7360f"
   },
   "outputs": [
    {
     "data": {
      "text/plain": [
       "array([ 1.        ,  1.28571429,  1.57142857,  1.85714286,  2.14285714,\n",
       "        2.42857143,  2.71428571,  3.        ,  3.28571429,  3.57142857,\n",
       "        3.85714286,  4.14285714,  4.42857143,  4.71428571,  5.        ,\n",
       "        5.28571429,  5.57142857,  5.85714286,  6.14285714,  6.42857143,\n",
       "        6.71428571,  7.        ,  7.28571429,  7.57142857,  7.85714286,\n",
       "        8.14285714,  8.42857143,  8.71428571,  9.        ,  9.28571429,\n",
       "        9.57142857,  9.85714286, 10.14285714, 10.42857143, 10.71428571,\n",
       "       11.        , 11.28571429, 11.57142857, 11.85714286, 12.14285714,\n",
       "       12.42857143, 12.71428571, 13.        , 13.28571429, 13.57142857,\n",
       "       13.85714286, 14.14285714, 14.42857143, 14.71428571, 15.        ])"
      ]
     },
     "execution_count": 64,
     "metadata": {},
     "output_type": "execute_result"
    }
   ],
   "source": [
    "np.linspace(1,15)  # default 50 observations\n",
    "# both the start and end are included in the array"
   ]
  },
  {
   "cell_type": "code",
   "execution_count": 23,
   "metadata": {
    "colab": {
     "base_uri": "https://localhost:8080/"
    },
    "executionInfo": {
     "elapsed": 6,
     "status": "ok",
     "timestamp": 1695548554027,
     "user": {
      "displayName": "Rama Chandra Kotturu",
      "userId": "02243285469857073193"
     },
     "user_tz": -330
    },
    "id": "W2giypROJxBM",
    "outputId": "51f30e2d-4b30-4a88-e67e-204c15970a74"
   },
   "outputs": [
    {
     "data": {
      "text/plain": [
       "array([ 5.        ,  7.22222222,  9.44444444, 11.66666667, 13.88888889,\n",
       "       16.11111111, 18.33333333, 20.55555556, 22.77777778, 25.        ])"
      ]
     },
     "execution_count": 23,
     "metadata": {},
     "output_type": "execute_result"
    }
   ],
   "source": [
    "np.linspace(5,25,10,retstep=0)  # equally spaced 10 values"
   ]
  },
  {
   "cell_type": "code",
   "execution_count": null,
   "metadata": {
    "id": "0eUeYysOJxBN"
   },
   "outputs": [],
   "source": [
    "# retstep ~ return step computed by linspace"
   ]
  },
  {
   "cell_type": "code",
   "execution_count": null,
   "metadata": {
    "colab": {
     "base_uri": "https://localhost:8080/"
    },
    "executionInfo": {
     "elapsed": 10,
     "status": "ok",
     "timestamp": 1695548584251,
     "user": {
      "displayName": "Rama Chandra Kotturu",
      "userId": "02243285469857073193"
     },
     "user_tz": -330
    },
    "id": "IgfnlXsTx9C6",
    "outputId": "d5fc7dd7-62d3-4a0d-ebe0-ad5940cb0b7d"
   },
   "outputs": [
    {
     "data": {
      "text/plain": [
       "(array([ 0.        ,  0.51020408,  1.02040816,  1.53061224,  2.04081633,\n",
       "         2.55102041,  3.06122449,  3.57142857,  4.08163265,  4.59183673,\n",
       "         5.10204082,  5.6122449 ,  6.12244898,  6.63265306,  7.14285714,\n",
       "         7.65306122,  8.16326531,  8.67346939,  9.18367347,  9.69387755,\n",
       "        10.20408163, 10.71428571, 11.2244898 , 11.73469388, 12.24489796,\n",
       "        12.75510204, 13.26530612, 13.7755102 , 14.28571429, 14.79591837,\n",
       "        15.30612245, 15.81632653, 16.32653061, 16.83673469, 17.34693878,\n",
       "        17.85714286, 18.36734694, 18.87755102, 19.3877551 , 19.89795918,\n",
       "        20.40816327, 20.91836735, 21.42857143, 21.93877551, 22.44897959,\n",
       "        22.95918367, 23.46938776, 23.97959184, 24.48979592, 25.        ]),\n",
       " 0.5102040816326531)"
      ]
     },
     "execution_count": 67,
     "metadata": {},
     "output_type": "execute_result"
    }
   ],
   "source": [
    "np.linspace(0,25, retstep=True) # Start # end (Here end is included) and default elements are 50"
   ]
  },
  {
   "cell_type": "code",
   "execution_count": 2,
   "metadata": {
    "id": "xu026tsnJxBO"
   },
   "outputs": [
    {
     "data": {
      "text/plain": [
       "array([  0.        ,  22.22222222,  44.44444444,  66.66666667,\n",
       "        88.88888889, 111.11111111, 133.33333333, 155.55555556,\n",
       "       177.77777778, 200.        ])"
      ]
     },
     "execution_count": 2,
     "metadata": {},
     "output_type": "execute_result"
    }
   ],
   "source": [
    "np.linspace(0,200,10) # default retstep=False"
   ]
  },
  {
   "cell_type": "code",
   "execution_count": 3,
   "metadata": {
    "id": "1ABp4EONJxBP"
   },
   "outputs": [
    {
     "data": {
      "text/plain": [
       "(array([  0.        ,  22.22222222,  44.44444444,  66.66666667,\n",
       "         88.88888889, 111.11111111, 133.33333333, 155.55555556,\n",
       "        177.77777778, 200.        ]),\n",
       " 22.22222222222222)"
      ]
     },
     "execution_count": 3,
     "metadata": {},
     "output_type": "execute_result"
    }
   ],
   "source": [
    "np.linspace(0,200,10,retstep=True)"
   ]
  },
  {
   "cell_type": "markdown",
   "metadata": {
    "id": "JdFde4Sjx9C8"
   },
   "source": [
    "### eye\n",
    "\n",
    "Creates an identity matrix"
   ]
  },
  {
   "cell_type": "code",
   "execution_count": null,
   "metadata": {
    "colab": {
     "base_uri": "https://localhost:8080/"
    },
    "executionInfo": {
     "elapsed": 5,
     "status": "ok",
     "timestamp": 1695548907194,
     "user": {
      "displayName": "Rama Chandra Kotturu",
      "userId": "02243285469857073193"
     },
     "user_tz": -330
    },
    "id": "038mjaC_x9C_",
    "outputId": "51407c58-7e72-4293-e592-7f6804ae8b89"
   },
   "outputs": [
    {
     "data": {
      "text/plain": [
       "array([[1., 0., 0.],\n",
       "       [0., 1., 0.],\n",
       "       [0., 0., 1.]])"
      ]
     },
     "execution_count": 69,
     "metadata": {},
     "output_type": "execute_result"
    }
   ],
   "source": [
    "np.eye(3)   # generates 2d array of (5,5)"
   ]
  },
  {
   "cell_type": "code",
   "execution_count": null,
   "metadata": {
    "id": "wKY_GGrwJxBQ"
   },
   "outputs": [],
   "source": [
    "# Create an eye from a zeros array"
   ]
  },
  {
   "cell_type": "markdown",
   "metadata": {
    "id": "LP1-0EZBJxBR"
   },
   "source": [
    "### Broadcasting in an array"
   ]
  },
  {
   "cell_type": "code",
   "execution_count": 5,
   "metadata": {},
   "outputs": [],
   "source": [
    "import numpy as np"
   ]
  },
  {
   "cell_type": "code",
   "execution_count": 6,
   "metadata": {
    "colab": {
     "base_uri": "https://localhost:8080/"
    },
    "executionInfo": {
     "elapsed": 505,
     "status": "ok",
     "timestamp": 1695548984606,
     "user": {
      "displayName": "Rama Chandra Kotturu",
      "userId": "02243285469857073193"
     },
     "user_tz": -330
    },
    "id": "3u33yaPxJxBR",
    "outputId": "7a2d1b30-aefe-4cf0-978c-b6820f435282"
   },
   "outputs": [
    {
     "name": "stdout",
     "output_type": "stream",
     "text": [
      "[[1. 1. 1. 1.]\n",
      " [1. 1. 1. 1.]\n",
      " [1. 1. 1. 1.]]\n"
     ]
    }
   ],
   "source": [
    "big_one=np.ones((3,4))\n",
    "print(big_one)"
   ]
  },
  {
   "cell_type": "code",
   "execution_count": 7,
   "metadata": {
    "colab": {
     "base_uri": "https://localhost:8080/"
    },
    "executionInfo": {
     "elapsed": 4,
     "status": "ok",
     "timestamp": 1695548985062,
     "user": {
      "displayName": "Rama Chandra Kotturu",
      "userId": "02243285469857073193"
     },
     "user_tz": -330
    },
    "id": "3LWHGLrTJxBS",
    "outputId": "3acb2693-6212-44e9-cdef-5b9f9cc67b1e"
   },
   "outputs": [
    {
     "data": {
      "text/plain": [
       "dtype('float64')"
      ]
     },
     "execution_count": 7,
     "metadata": {},
     "output_type": "execute_result"
    }
   ],
   "source": [
    "big_one.dtype"
   ]
  },
  {
   "cell_type": "code",
   "execution_count": 8,
   "metadata": {
    "colab": {
     "base_uri": "https://localhost:8080/"
    },
    "executionInfo": {
     "elapsed": 589,
     "status": "ok",
     "timestamp": 1695548996164,
     "user": {
      "displayName": "Rama Chandra Kotturu",
      "userId": "02243285469857073193"
     },
     "user_tz": -330
    },
    "id": "KiL9eAZdJxBT",
    "outputId": "e7b46322-f408-435e-f5d4-1518e2763dbc"
   },
   "outputs": [
    {
     "data": {
      "text/plain": [
       "array([[3., 3., 3., 3.],\n",
       "       [3., 3., 3., 3.],\n",
       "       [3., 3., 3., 3.]])"
      ]
     },
     "execution_count": 8,
     "metadata": {},
     "output_type": "execute_result"
    }
   ],
   "source": [
    "big_one * 3"
   ]
  },
  {
   "cell_type": "markdown",
   "metadata": {
    "id": "FfxVtneHJxBU"
   },
   "source": [
    "#### The ability to access each and every element of an array is known as Broadcasting."
   ]
  },
  {
   "cell_type": "code",
   "execution_count": 9,
   "metadata": {
    "colab": {
     "base_uri": "https://localhost:8080/"
    },
    "executionInfo": {
     "elapsed": 5,
     "status": "ok",
     "timestamp": 1695548999658,
     "user": {
      "displayName": "Rama Chandra Kotturu",
      "userId": "02243285469857073193"
     },
     "user_tz": -330
    },
    "id": "MWev3L66JxBV",
    "outputId": "23ffbf69-b364-48c2-defb-aad7eaf236da"
   },
   "outputs": [
    {
     "data": {
      "text/plain": [
       "array([[4., 4., 4., 4.],\n",
       "       [4., 4., 4., 4.],\n",
       "       [4., 4., 4., 4.]])"
      ]
     },
     "execution_count": 9,
     "metadata": {},
     "output_type": "execute_result"
    }
   ],
   "source": [
    "bigger_one=big_one*6 - 2\n",
    "bigger_one"
   ]
  },
  {
   "cell_type": "code",
   "execution_count": 10,
   "metadata": {
    "colab": {
     "base_uri": "https://localhost:8080/"
    },
    "executionInfo": {
     "elapsed": 734,
     "status": "ok",
     "timestamp": 1695549024859,
     "user": {
      "displayName": "Rama Chandra Kotturu",
      "userId": "02243285469857073193"
     },
     "user_tz": -330
    },
    "id": "y5ZFyFNQJxBW",
    "outputId": "d30fc1e6-6e7b-4726-9f29-0cf1ea2faf95"
   },
   "outputs": [
    {
     "name": "stdout",
     "output_type": "stream",
     "text": [
      "[[2 2 2 2]\n",
      " [2 2 2 2]\n",
      " [2 2 2 2]]\n"
     ]
    }
   ],
   "source": [
    "bigger=np.array(big_one*3 - 0.4, dtype='int')\n",
    "print(bigger)"
   ]
  },
  {
   "cell_type": "code",
   "execution_count": null,
   "metadata": {
    "colab": {
     "base_uri": "https://localhost:8080/"
    },
    "executionInfo": {
     "elapsed": 514,
     "status": "ok",
     "timestamp": 1695549032843,
     "user": {
      "displayName": "Rama Chandra Kotturu",
      "userId": "02243285469857073193"
     },
     "user_tz": -330
    },
    "id": "51xpmlcfJxBX",
    "outputId": "7e737901-0d2e-4aff-ffb8-0b25c6bc663a"
   },
   "outputs": [
    {
     "data": {
      "text/plain": [
       "dtype('int64')"
      ]
     },
     "execution_count": 76,
     "metadata": {},
     "output_type": "execute_result"
    }
   ],
   "source": [
    "bigger.dtype"
   ]
  },
  {
   "cell_type": "code",
   "execution_count": null,
   "metadata": {
    "colab": {
     "base_uri": "https://localhost:8080/"
    },
    "executionInfo": {
     "elapsed": 435,
     "status": "ok",
     "timestamp": 1695549038781,
     "user": {
      "displayName": "Rama Chandra Kotturu",
      "userId": "02243285469857073193"
     },
     "user_tz": -330
    },
    "id": "slTeCs7gJxBY",
    "outputId": "a730d705-03b3-4b58-ff82-67cdbe956218"
   },
   "outputs": [
    {
     "data": {
      "text/plain": [
       "numpy.ndarray"
      ]
     },
     "execution_count": 77,
     "metadata": {},
     "output_type": "execute_result"
    }
   ],
   "source": [
    "type(bigger)"
   ]
  },
  {
   "cell_type": "code",
   "execution_count": null,
   "metadata": {
    "colab": {
     "base_uri": "https://localhost:8080/"
    },
    "executionInfo": {
     "elapsed": 26,
     "status": "ok",
     "timestamp": 1695549041781,
     "user": {
      "displayName": "Rama Chandra Kotturu",
      "userId": "02243285469857073193"
     },
     "user_tz": -330
    },
    "id": "EWju_I0VJxBZ",
    "outputId": "afdb8f52-ceea-4c83-bc0f-321f23b1e821"
   },
   "outputs": [
    {
     "data": {
      "text/plain": [
       "(3, 4)"
      ]
     },
     "execution_count": 78,
     "metadata": {},
     "output_type": "execute_result"
    }
   ],
   "source": [
    "bigger.shape"
   ]
  },
  {
   "cell_type": "code",
   "execution_count": null,
   "metadata": {
    "colab": {
     "base_uri": "https://localhost:8080/"
    },
    "executionInfo": {
     "elapsed": 7,
     "status": "ok",
     "timestamp": 1695549043882,
     "user": {
      "displayName": "Rama Chandra Kotturu",
      "userId": "02243285469857073193"
     },
     "user_tz": -330
    },
    "id": "r5Nu9oGDJxBZ",
    "outputId": "d9e2a8d6-0e51-4005-f95f-f6694d5c7140"
   },
   "outputs": [
    {
     "data": {
      "text/plain": [
       "array([[1., 1., 1., 1.],\n",
       "       [1., 1., 1., 1.],\n",
       "       [1., 1., 1., 1.]])"
      ]
     },
     "execution_count": 79,
     "metadata": {},
     "output_type": "execute_result"
    }
   ],
   "source": [
    "bigger/bigger"
   ]
  },
  {
   "cell_type": "code",
   "execution_count": null,
   "metadata": {
    "colab": {
     "base_uri": "https://localhost:8080/"
    },
    "executionInfo": {
     "elapsed": 10,
     "status": "ok",
     "timestamp": 1695549098588,
     "user": {
      "displayName": "Rama Chandra Kotturu",
      "userId": "02243285469857073193"
     },
     "user_tz": -330
    },
    "id": "L98j5ChRmZRt",
    "outputId": "e887ebe6-1bbf-4f54-b77e-f2df4f57b8d0"
   },
   "outputs": [
    {
     "data": {
      "text/plain": [
       "array([1.        , 0.5       , 0.33333333, 0.25      , 0.2       ,\n",
       "       0.16666667, 0.14285714, 0.125     , 0.11111111, 0.1       ,\n",
       "       0.09090909, 0.08333333, 0.07692308, 0.07142857, 0.06666667,\n",
       "       0.0625    , 0.05882353, 0.05555556, 0.05263158])"
      ]
     },
     "execution_count": 83,
     "metadata": {},
     "output_type": "execute_result"
    }
   ],
   "source": [
    "1/arr1[1:]"
   ]
  },
  {
   "cell_type": "code",
   "execution_count": 2,
   "metadata": {
    "colab": {
     "base_uri": "https://localhost:8080/"
    },
    "executionInfo": {
     "elapsed": 519,
     "status": "ok",
     "timestamp": 1695549056191,
     "user": {
      "displayName": "Rama Chandra Kotturu",
      "userId": "02243285469857073193"
     },
     "user_tz": -330
    },
    "id": "D3jN_we3JxBa",
    "outputId": "aa4ef93e-d6ef-4b5f-e25b-21970c17eb4a"
   },
   "outputs": [
    {
     "name": "stderr",
     "output_type": "stream",
     "text": [
      "C:\\Users\\VIJAY\\AppData\\Local\\Temp\\ipykernel_13864\\3219800275.py:2: RuntimeWarning: divide by zero encountered in divide\n",
      "  1/arr1\n"
     ]
    },
    {
     "data": {
      "text/plain": [
       "array([       inf, 1.        , 0.5       , 0.33333333, 0.25      ,\n",
       "       0.2       , 0.16666667, 0.14285714, 0.125     , 0.11111111,\n",
       "       0.1       , 0.09090909, 0.08333333, 0.07692308, 0.07142857,\n",
       "       0.06666667, 0.0625    , 0.05882353, 0.05555556, 0.05263158])"
      ]
     },
     "execution_count": 2,
     "metadata": {},
     "output_type": "execute_result"
    }
   ],
   "source": [
    "arr1 = np.arange(20)\n",
    "1/arr1"
   ]
  },
  {
   "cell_type": "code",
   "execution_count": null,
   "metadata": {
    "id": "0-71lspMmj6e"
   },
   "outputs": [],
   "source": [
    "arr=np.arange(4)"
   ]
  },
  {
   "cell_type": "code",
   "execution_count": null,
   "metadata": {
    "colab": {
     "base_uri": "https://localhost:8080/"
    },
    "executionInfo": {
     "elapsed": 8,
     "status": "ok",
     "timestamp": 1695549119473,
     "user": {
      "displayName": "Rama Chandra Kotturu",
      "userId": "02243285469857073193"
     },
     "user_tz": -330
    },
    "id": "WupDdDtrJxBb",
    "outputId": "8d1f5789-c548-4710-f734-097af58a2d0f"
   },
   "outputs": [
    {
     "data": {
      "text/plain": [
       "array([0, 2, 4, 6])"
      ]
     },
     "execution_count": 86,
     "metadata": {},
     "output_type": "execute_result"
    }
   ],
   "source": [
    "arr + arr"
   ]
  },
  {
   "cell_type": "code",
   "execution_count": null,
   "metadata": {
    "colab": {
     "base_uri": "https://localhost:8080/"
    },
    "executionInfo": {
     "elapsed": 8,
     "status": "ok",
     "timestamp": 1695549169752,
     "user": {
      "displayName": "Rama Chandra Kotturu",
      "userId": "02243285469857073193"
     },
     "user_tz": -330
    },
    "id": "gd5dHVtfmxH3",
    "outputId": "01986d55-c36c-425a-e90d-96f6192cd935"
   },
   "outputs": [
    {
     "data": {
      "text/plain": [
       "array([0, 1, 2, 3])"
      ]
     },
     "execution_count": 88,
     "metadata": {},
     "output_type": "execute_result"
    }
   ],
   "source": [
    "arr"
   ]
  },
  {
   "cell_type": "code",
   "execution_count": null,
   "metadata": {
    "colab": {
     "base_uri": "https://localhost:8080/"
    },
    "executionInfo": {
     "elapsed": 524,
     "status": "ok",
     "timestamp": 1695549129615,
     "user": {
      "displayName": "Rama Chandra Kotturu",
      "userId": "02243285469857073193"
     },
     "user_tz": -330
    },
    "id": "mFF9-EkXJxBb",
    "outputId": "ced5f4f0-66db-4caa-f986-c271019de851"
   },
   "outputs": [
    {
     "data": {
      "text/plain": [
       "array([ 1,  1,  4, 27])"
      ]
     },
     "execution_count": 87,
     "metadata": {},
     "output_type": "execute_result"
    }
   ],
   "source": [
    "arr  **arr"
   ]
  },
  {
   "cell_type": "markdown",
   "metadata": {
    "id": "fEYIoFWgJxBc"
   },
   "source": [
    "### Use of Copy function"
   ]
  },
  {
   "cell_type": "code",
   "execution_count": 3,
   "metadata": {
    "colab": {
     "base_uri": "https://localhost:8080/"
    },
    "executionInfo": {
     "elapsed": 515,
     "status": "ok",
     "timestamp": 1695549316697,
     "user": {
      "displayName": "Rama Chandra Kotturu",
      "userId": "02243285469857073193"
     },
     "user_tz": -330
    },
    "id": "JdRYjZF-JxBd",
    "outputId": "d322f18b-875d-43e8-922f-137f35a68c26"
   },
   "outputs": [
    {
     "data": {
      "text/plain": [
       "array([ 0,  1,  2,  3,  4,  5,  6,  7,  8,  9, 10, 11, 12, 13, 14, 15, 16,\n",
       "       17, 18, 19])"
      ]
     },
     "execution_count": 3,
     "metadata": {},
     "output_type": "execute_result"
    }
   ],
   "source": [
    "arr2 = arr1 # not recommended\n",
    "arr2"
   ]
  },
  {
   "cell_type": "code",
   "execution_count": 4,
   "metadata": {
    "id": "BSCqvhf6JxBe"
   },
   "outputs": [],
   "source": [
    "arr1[1]=100"
   ]
  },
  {
   "cell_type": "code",
   "execution_count": 5,
   "metadata": {
    "colab": {
     "base_uri": "https://localhost:8080/"
    },
    "executionInfo": {
     "elapsed": 6,
     "status": "ok",
     "timestamp": 1695549360718,
     "user": {
      "displayName": "Rama Chandra Kotturu",
      "userId": "02243285469857073193"
     },
     "user_tz": -330
    },
    "id": "7qbURbM0JxBe",
    "outputId": "0928edc7-3076-4f89-f1cf-86499c6d9e42"
   },
   "outputs": [
    {
     "data": {
      "text/plain": [
       "array([  0, 100,   2,   3,   4,   5,   6,   7,   8,   9,  10,  11,  12,\n",
       "        13,  14,  15,  16,  17,  18,  19])"
      ]
     },
     "execution_count": 5,
     "metadata": {},
     "output_type": "execute_result"
    }
   ],
   "source": [
    "arr1"
   ]
  },
  {
   "cell_type": "code",
   "execution_count": 6,
   "metadata": {
    "colab": {
     "base_uri": "https://localhost:8080/"
    },
    "executionInfo": {
     "elapsed": 9,
     "status": "ok",
     "timestamp": 1695549369686,
     "user": {
      "displayName": "Rama Chandra Kotturu",
      "userId": "02243285469857073193"
     },
     "user_tz": -330
    },
    "id": "2xJG8lkhnh-6",
    "outputId": "99569dc9-4aca-4439-ca3c-c32f45163b78"
   },
   "outputs": [
    {
     "data": {
      "text/plain": [
       "array([  0, 100,   2,   3,   4,   5,   6,   7,   8,   9,  10,  11,  12,\n",
       "        13,  14,  15,  16,  17,  18,  19])"
      ]
     },
     "execution_count": 6,
     "metadata": {},
     "output_type": "execute_result"
    }
   ],
   "source": [
    "arr2"
   ]
  },
  {
   "cell_type": "code",
   "execution_count": 10,
   "metadata": {
    "id": "OMWh0jN5JxBg"
   },
   "outputs": [],
   "source": [
    "arr3 = arr1.copy() # generate a copy / creates a backup"
   ]
  },
  {
   "cell_type": "code",
   "execution_count": 11,
   "metadata": {
    "colab": {
     "base_uri": "https://localhost:8080/"
    },
    "executionInfo": {
     "elapsed": 10,
     "status": "ok",
     "timestamp": 1695549453726,
     "user": {
      "displayName": "Rama Chandra Kotturu",
      "userId": "02243285469857073193"
     },
     "user_tz": -330
    },
    "id": "VpxDqPQYJxBg",
    "outputId": "3621b035-406f-4494-9550-6177b4933c97",
    "scrolled": true
   },
   "outputs": [
    {
     "data": {
      "text/plain": [
       "array([  0, 100,   2,   3,   4,   5,   6,   7,   8,   9, 100, 100, 100,\n",
       "       100, 100, 100, 100, 100, 100, 100])"
      ]
     },
     "execution_count": 11,
     "metadata": {},
     "output_type": "execute_result"
    }
   ],
   "source": [
    "arr3[10:] = 100\n",
    "arr3"
   ]
  },
  {
   "cell_type": "code",
   "execution_count": null,
   "metadata": {
    "colab": {
     "base_uri": "https://localhost:8080/"
    },
    "executionInfo": {
     "elapsed": 6,
     "status": "ok",
     "timestamp": 1695549457750,
     "user": {
      "displayName": "Rama Chandra Kotturu",
      "userId": "02243285469857073193"
     },
     "user_tz": -330
    },
    "id": "U5-cDDE_JxBh",
    "outputId": "3b65b849-180a-4ef6-a4fd-ae6ab68d10d1"
   },
   "outputs": [
    {
     "data": {
      "text/plain": [
       "array([  0, 100,   2,   3,   4,   5,   6,   7,   8,   9,  10,  11,  12,\n",
       "        13,  14,  15,  16,  17,  18,  19])"
      ]
     },
     "execution_count": 97,
     "metadata": {},
     "output_type": "execute_result"
    }
   ],
   "source": [
    "\n",
    "arr1  # copy function retains the original. copy creates a backup array."
   ]
  },
  {
   "cell_type": "code",
   "execution_count": 11,
   "metadata": {
    "id": "C-YUa2lJJxBi"
   },
   "outputs": [],
   "source": [
    " def fibo(n):\n",
    "  l1=[0,1]\n",
    "  a=0\n",
    "  b=1\n",
    "  for i in range(n-2):\n",
    "    c=a+b\n",
    "    print(c)\n",
    "    a=b\n",
    "    b=c\n",
    "  return l1"
   ]
  },
  {
   "cell_type": "code",
   "execution_count": 19,
   "metadata": {
    "id": "G3IPDVlIJxBi"
   },
   "outputs": [
    {
     "name": "stdout",
     "output_type": "stream",
     "text": [
      "1\n",
      "2\n",
      "3\n",
      "5\n",
      "8\n",
      "13\n",
      "21\n",
      "34\n",
      "55\n",
      "89\n",
      "144\n",
      "233\n",
      "377\n"
     ]
    },
    {
     "data": {
      "text/plain": [
       "[0, 1]"
      ]
     },
     "execution_count": 19,
     "metadata": {},
     "output_type": "execute_result"
    }
   ],
   "source": [
    "fibo(15)"
   ]
  },
  {
   "cell_type": "code",
   "execution_count": null,
   "metadata": {},
   "outputs": [],
   "source": []
  },
  {
   "cell_type": "markdown",
   "metadata": {
    "id": "dWJq5smax9DF"
   },
   "source": [
    "## Random number generation\n",
    "\n",
    "Numpy also has lots of ways to create random number arrays:\n",
    "\n",
    "### rand\n",
    "Create an array of the given shape and populate it with\n",
    "random samples from a uniform distribution\n",
    "over ``[0, 1)``."
   ]
  },
  {
   "cell_type": "code",
   "execution_count": null,
   "metadata": {
    "id": "NuHWupF6JxBj"
   },
   "outputs": [],
   "source": [
    "import numpy as np"
   ]
  },
  {
   "cell_type": "code",
   "execution_count": null,
   "metadata": {
    "colab": {
     "base_uri": "https://localhost:8080/"
    },
    "executionInfo": {
     "elapsed": 616,
     "status": "ok",
     "timestamp": 1695550653038,
     "user": {
      "displayName": "Rama Chandra Kotturu",
      "userId": "02243285469857073193"
     },
     "user_tz": -330
    },
    "id": "1_tujYDWJxBk",
    "outputId": "9faf5d16-c02f-47d4-a9ee-a972a67425d7"
   },
   "outputs": [
    {
     "data": {
      "text/plain": [
       "0.5822787317698371"
      ]
     },
     "execution_count": 104,
     "metadata": {},
     "output_type": "execute_result"
    }
   ],
   "source": [
    "np.random.rand()"
   ]
  },
  {
   "cell_type": "code",
   "execution_count": null,
   "metadata": {
    "colab": {
     "base_uri": "https://localhost:8080/"
    },
    "executionInfo": {
     "elapsed": 4,
     "status": "ok",
     "timestamp": 1695550666447,
     "user": {
      "displayName": "Rama Chandra Kotturu",
      "userId": "02243285469857073193"
     },
     "user_tz": -330
    },
    "id": "fOvH5i4Vx9DG",
    "outputId": "4eb91e4d-d84e-42c0-cd06-df7e73cb80bf",
    "scrolled": true
   },
   "outputs": [
    {
     "data": {
      "text/plain": [
       "array([0.88417461, 0.87232878, 0.45238768, 0.96840653, 0.28220998,\n",
       "       0.83586086, 0.17557794, 0.42534273, 0.68907691, 0.34763641])"
      ]
     },
     "execution_count": 105,
     "metadata": {},
     "output_type": "execute_result"
    }
   ],
   "source": [
    "np.random.rand(10) # rand gives values between 0 and 1"
   ]
  },
  {
   "cell_type": "code",
   "execution_count": null,
   "metadata": {
    "colab": {
     "base_uri": "https://localhost:8080/"
    },
    "executionInfo": {
     "elapsed": 11,
     "status": "ok",
     "timestamp": 1695550730255,
     "user": {
      "displayName": "Rama Chandra Kotturu",
      "userId": "02243285469857073193"
     },
     "user_tz": -330
    },
    "id": "ibUE2uN0JxBl",
    "outputId": "7a840aa5-4af5-4972-9d2a-c095f6872b69"
   },
   "outputs": [
    {
     "data": {
      "text/plain": [
       "array([[0.56809506, 0.37776403],\n",
       "       [0.23162803, 0.36490515],\n",
       "       [0.4212592 , 0.97476465],\n",
       "       [0.99876309, 0.53441679],\n",
       "       [0.58631442, 0.40082759]])"
      ]
     },
     "execution_count": 109,
     "metadata": {},
     "output_type": "execute_result"
    }
   ],
   "source": [
    "np.random.rand(5,2)"
   ]
  },
  {
   "cell_type": "code",
   "execution_count": null,
   "metadata": {
    "id": "efcVMWykg7zT"
   },
   "outputs": [],
   "source": [
    "# Creating array from uniform distribution\n",
    "new_arr=np.random.rand(5,3)\n",
    "# 2 dimensional array of shape (5,3)"
   ]
  },
  {
   "cell_type": "code",
   "execution_count": null,
   "metadata": {
    "id": "5Q4F0UNMJxBm",
    "outputId": "7b47265e-3e2a-43db-e96d-e243626cd922"
   },
   "outputs": [
    {
     "data": {
      "text/plain": [
       "array([[0.23420034, 0.50108748, 0.38907573],\n",
       "       [0.11191397, 0.98321037, 0.26202618],\n",
       "       [0.54211042, 0.72821307, 0.24579214],\n",
       "       [0.29625338, 0.1570052 , 0.42148197],\n",
       "       [0.75544377, 0.16536261, 0.13733244]])"
      ]
     },
     "execution_count": 18,
     "metadata": {},
     "output_type": "execute_result"
    }
   ],
   "source": [
    "new_arr"
   ]
  },
  {
   "cell_type": "code",
   "execution_count": null,
   "metadata": {
    "id": "FE9XNpt5x9DH"
   },
   "outputs": [],
   "source": [
    "np.random.rand(3,3)"
   ]
  },
  {
   "cell_type": "markdown",
   "metadata": {
    "id": "LrrwZjCjx9DJ"
   },
   "source": [
    "### randn\n",
    "\n",
    "Return a sample (or samples) from the \"standard normal\" distribution. Unlike rand which is uniform:"
   ]
  },
  {
   "cell_type": "code",
   "execution_count": null,
   "metadata": {
    "id": "fD8KQewbJxBn"
   },
   "outputs": [],
   "source": [
    "# For randn, random numbbers generated will be in approximately -3 to +3 range."
   ]
  },
  {
   "cell_type": "code",
   "execution_count": null,
   "metadata": {
    "id": "i2F_3QHqx9DJ"
   },
   "outputs": [],
   "source": [
    "arr1=np.random.randn(50)  # 50 observations from std normal distribution\n",
    "arr1"
   ]
  },
  {
   "cell_type": "code",
   "execution_count": null,
   "metadata": {
    "colab": {
     "base_uri": "https://localhost:8080/"
    },
    "executionInfo": {
     "elapsed": 7,
     "status": "ok",
     "timestamp": 1695550963911,
     "user": {
      "displayName": "Rama Chandra Kotturu",
      "userId": "02243285469857073193"
     },
     "user_tz": -330
    },
    "id": "0QoHHTwcJxBp",
    "outputId": "62e8ba76-6281-4b37-f2db-79694503de0f"
   },
   "outputs": [
    {
     "data": {
      "text/plain": [
       "0.06271997894988432"
      ]
     },
     "execution_count": 111,
     "metadata": {},
     "output_type": "execute_result"
    }
   ],
   "source": [
    "np.mean(arr1)"
   ]
  },
  {
   "cell_type": "code",
   "execution_count": null,
   "metadata": {
    "colab": {
     "base_uri": "https://localhost:8080/"
    },
    "executionInfo": {
     "elapsed": 10,
     "status": "ok",
     "timestamp": 1695551028157,
     "user": {
      "displayName": "Rama Chandra Kotturu",
      "userId": "02243285469857073193"
     },
     "user_tz": -330
    },
    "id": "krKkoIadJxBq",
    "outputId": "521fe482-15c4-414d-89f6-7da4542928ff"
   },
   "outputs": [
    {
     "data": {
      "text/plain": [
       "0.1514425397510626"
      ]
     },
     "execution_count": 112,
     "metadata": {},
     "output_type": "execute_result"
    }
   ],
   "source": [
    "np.median(arr1)"
   ]
  },
  {
   "cell_type": "code",
   "execution_count": null,
   "metadata": {
    "colab": {
     "base_uri": "https://localhost:8080/"
    },
    "executionInfo": {
     "elapsed": 3,
     "status": "ok",
     "timestamp": 1695551049925,
     "user": {
      "displayName": "Rama Chandra Kotturu",
      "userId": "02243285469857073193"
     },
     "user_tz": -330
    },
    "id": "0FP8GKD4x9DK",
    "outputId": "67d7fc9a-2c5e-4b27-dc83-b7aa4b3f8cbd"
   },
   "outputs": [
    {
     "data": {
      "text/plain": [
       "0.9613225736668704"
      ]
     },
     "execution_count": 113,
     "metadata": {},
     "output_type": "execute_result"
    }
   ],
   "source": [
    "np.std(arr1)"
   ]
  },
  {
   "cell_type": "markdown",
   "metadata": {
    "id": "glHOxsNXx9DL"
   },
   "source": [
    "### randint\n",
    "Return random integers from `low` (inclusive) to `high` (exclusive)."
   ]
  },
  {
   "cell_type": "code",
   "execution_count": 20,
   "metadata": {
    "colab": {
     "base_uri": "https://localhost:8080/"
    },
    "executionInfo": {
     "elapsed": 419,
     "status": "ok",
     "timestamp": 1695553214263,
     "user": {
      "displayName": "Rama Chandra Kotturu",
      "userId": "02243285469857073193"
     },
     "user_tz": -330
    },
    "id": "HX_-jaJvx9DL",
    "outputId": "f0139169-35a7-4d10-99c1-7a2abe39ebac"
   },
   "outputs": [
    {
     "data": {
      "text/plain": [
       "65"
      ]
     },
     "execution_count": 20,
     "metadata": {},
     "output_type": "execute_result"
    }
   ],
   "source": [
    "np.random.randint(1,100)\n",
    "# third argument is no. of values(elements). default =1 value"
   ]
  },
  {
   "cell_type": "code",
   "execution_count": null,
   "metadata": {
    "colab": {
     "base_uri": "https://localhost:8080/"
    },
    "executionInfo": {
     "elapsed": 420,
     "status": "ok",
     "timestamp": 1695553226797,
     "user": {
      "displayName": "Rama Chandra Kotturu",
      "userId": "02243285469857073193"
     },
     "user_tz": -330
    },
    "id": "bE3bAdd7x9DN",
    "outputId": "f41d2998-c46c-4259-f7da-77df1f55941d"
   },
   "outputs": [
    {
     "data": {
      "text/plain": [
       "array([12, 59, 47, 46, 24, 32, 61, 43, 93, 29])"
      ]
     },
     "execution_count": 117,
     "metadata": {},
     "output_type": "execute_result"
    }
   ],
   "source": [
    "np.random.randint(1,100,10)"
   ]
  },
  {
   "cell_type": "code",
   "execution_count": null,
   "metadata": {
    "colab": {
     "base_uri": "https://localhost:8080/"
    },
    "executionInfo": {
     "elapsed": 491,
     "status": "ok",
     "timestamp": 1695553233420,
     "user": {
      "displayName": "Rama Chandra Kotturu",
      "userId": "02243285469857073193"
     },
     "user_tz": -330
    },
    "id": "FopcXf2JJxBu",
    "outputId": "8362fd1f-5f5e-4fbd-da8d-190924bbcd55"
   },
   "outputs": [
    {
     "data": {
      "text/plain": [
       "array([47, 40, 41, 49, 55, 57, 41, 46, 46, 49, 59, 49, 40, 51, 57, 57, 54,\n",
       "       57, 43, 46, 52, 44, 41, 48, 44, 55, 54, 55, 49, 57, 56, 47, 48, 58,\n",
       "       58, 59, 53, 51, 53, 55, 40, 55, 45, 44, 41, 47, 46, 58, 40, 55])"
      ]
     },
     "execution_count": 118,
     "metadata": {},
     "output_type": "execute_result"
    }
   ],
   "source": [
    "np.random.randint(40,60,50) # generating 50 values between"
   ]
  },
  {
   "cell_type": "markdown",
   "metadata": {
    "id": "y3OefZJ-x9DP"
   },
   "source": [
    "## Array Attributes and Methods\n",
    "\n",
    "Let's discuss some useful attributes and methods or an array:"
   ]
  },
  {
   "cell_type": "code",
   "execution_count": null,
   "metadata": {
    "id": "z_ovwSrpx9DQ"
   },
   "outputs": [],
   "source": [
    "arr = np.arange(20)\n",
    "ranarr = np.random.randint(0,100,10)"
   ]
  },
  {
   "cell_type": "code",
   "execution_count": null,
   "metadata": {
    "colab": {
     "base_uri": "https://localhost:8080/"
    },
    "id": "0T57o_xFx9DQ",
    "outputId": "07b8ae56-3541-445f-9da2-5be9fe5ccdda"
   },
   "outputs": [
    {
     "data": {
      "text/plain": [
       "array([ 0,  1,  2,  3,  4,  5,  6,  7,  8,  9, 10, 11, 12, 13, 14, 15, 16,\n",
       "       17, 18, 19])"
      ]
     },
     "execution_count": 25,
     "metadata": {},
     "output_type": "execute_result"
    }
   ],
   "source": [
    "arr"
   ]
  },
  {
   "cell_type": "code",
   "execution_count": null,
   "metadata": {
    "colab": {
     "base_uri": "https://localhost:8080/"
    },
    "id": "WQoG3B-zx9DR",
    "outputId": "2f32c9fc-783c-4b47-f20b-e17b76b61919",
    "scrolled": true
   },
   "outputs": [
    {
     "data": {
      "text/plain": [
       "array([41, 16, 36, 67, 44, 83, 38, 99, 32, 20])"
      ]
     },
     "execution_count": 26,
     "metadata": {},
     "output_type": "execute_result"
    }
   ],
   "source": [
    "ranarr"
   ]
  },
  {
   "cell_type": "markdown",
   "metadata": {
    "id": "QDe4ZTxsx9DU"
   },
   "source": [
    "### max,min,argmax,argmin\n",
    "\n",
    "These are useful methods for finding max or min values. Or to find their index locations using argmin or argmax"
   ]
  },
  {
   "cell_type": "code",
   "execution_count": null,
   "metadata": {
    "id": "3AJ3w4Bpx9DV"
   },
   "outputs": [],
   "source": [
    "arr2=np.random.randint(1,100,20)"
   ]
  },
  {
   "cell_type": "code",
   "execution_count": null,
   "metadata": {
    "colab": {
     "base_uri": "https://localhost:8080/"
    },
    "executionInfo": {
     "elapsed": 9,
     "status": "ok",
     "timestamp": 1695553304488,
     "user": {
      "displayName": "Rama Chandra Kotturu",
      "userId": "02243285469857073193"
     },
     "user_tz": -330
    },
    "id": "RMxXEOvc2ikP",
    "outputId": "96ce50b9-fac9-458e-d818-d85b688e9d7f"
   },
   "outputs": [
    {
     "data": {
      "text/plain": [
       "array([85, 42, 52, 21, 85, 42, 84, 38, 70, 96, 61, 51, 28, 44, 72, 65, 12,\n",
       "       81, 40,  8])"
      ]
     },
     "execution_count": 122,
     "metadata": {},
     "output_type": "execute_result"
    }
   ],
   "source": [
    "arr2"
   ]
  },
  {
   "cell_type": "code",
   "execution_count": null,
   "metadata": {
    "colab": {
     "base_uri": "https://localhost:8080/"
    },
    "executionInfo": {
     "elapsed": 467,
     "status": "ok",
     "timestamp": 1695553299313,
     "user": {
      "displayName": "Rama Chandra Kotturu",
      "userId": "02243285469857073193"
     },
     "user_tz": -330
    },
    "id": "DZFZrRxe2gk-",
    "outputId": "2de218c9-df30-48b6-8be2-2b21696f14db"
   },
   "outputs": [
    {
     "data": {
      "text/plain": [
       "96"
      ]
     },
     "execution_count": 121,
     "metadata": {},
     "output_type": "execute_result"
    }
   ],
   "source": [
    "arr2.max()"
   ]
  },
  {
   "cell_type": "code",
   "execution_count": null,
   "metadata": {
    "colab": {
     "base_uri": "https://localhost:8080/"
    },
    "executionInfo": {
     "elapsed": 411,
     "status": "ok",
     "timestamp": 1695553324141,
     "user": {
      "displayName": "Rama Chandra Kotturu",
      "userId": "02243285469857073193"
     },
     "user_tz": -330
    },
    "id": "xQMx-Wqn2mSm",
    "outputId": "9a3886db-36a4-413a-e6f7-e433a217a804"
   },
   "outputs": [
    {
     "data": {
      "text/plain": [
       "8"
      ]
     },
     "execution_count": 123,
     "metadata": {},
     "output_type": "execute_result"
    }
   ],
   "source": [
    "arr2.min()"
   ]
  },
  {
   "cell_type": "code",
   "execution_count": null,
   "metadata": {
    "colab": {
     "base_uri": "https://localhost:8080/"
    },
    "executionInfo": {
     "elapsed": 552,
     "status": "ok",
     "timestamp": 1695553344839,
     "user": {
      "displayName": "Rama Chandra Kotturu",
      "userId": "02243285469857073193"
     },
     "user_tz": -330
    },
    "id": "I-55vv2i2paS",
    "outputId": "368704c0-f31e-4e55-fcda-f1c3561c6ed3"
   },
   "outputs": [
    {
     "data": {
      "text/plain": [
       "9"
      ]
     },
     "execution_count": 124,
     "metadata": {},
     "output_type": "execute_result"
    }
   ],
   "source": [
    "arr2.argmax()\n"
   ]
  },
  {
   "cell_type": "code",
   "execution_count": null,
   "metadata": {
    "colab": {
     "base_uri": "https://localhost:8080/"
    },
    "executionInfo": {
     "elapsed": 423,
     "status": "ok",
     "timestamp": 1695553378214,
     "user": {
      "displayName": "Rama Chandra Kotturu",
      "userId": "02243285469857073193"
     },
     "user_tz": -330
    },
    "id": "0hzt20BNx9DV",
    "outputId": "a24bba60-d6f6-4621-d64c-063de546317e"
   },
   "outputs": [
    {
     "data": {
      "text/plain": [
       "19"
      ]
     },
     "execution_count": 125,
     "metadata": {},
     "output_type": "execute_result"
    }
   ],
   "source": [
    "arr2.argmin()"
   ]
  },
  {
   "cell_type": "code",
   "execution_count": null,
   "metadata": {
    "id": "CNiObOB5g7zV",
    "outputId": "a5b835a8-e079-4a2d-f923-817a8e69970d"
   },
   "outputs": [
    {
     "data": {
      "text/plain": [
       "19"
      ]
     },
     "execution_count": 28,
     "metadata": {},
     "output_type": "execute_result"
    }
   ],
   "source": [
    "arr.max()"
   ]
  },
  {
   "cell_type": "code",
   "execution_count": null,
   "metadata": {
    "colab": {
     "base_uri": "https://localhost:8080/"
    },
    "id": "QA9P3wXnx9DW",
    "outputId": "ca073847-eaef-4bbd-934a-ca3b3d305a18"
   },
   "outputs": [
    {
     "data": {
      "text/plain": [
       "7"
      ]
     },
     "execution_count": 29,
     "metadata": {},
     "output_type": "execute_result"
    }
   ],
   "source": [
    "ranarr.argmax() ## Index location of highest element"
   ]
  },
  {
   "cell_type": "code",
   "execution_count": null,
   "metadata": {
    "colab": {
     "base_uri": "https://localhost:8080/"
    },
    "id": "GEG0nh6-x9DY",
    "outputId": "af38e527-bfd9-4029-d993-35d79c2854e7"
   },
   "outputs": [
    {
     "data": {
      "text/plain": [
       "16"
      ]
     },
     "execution_count": 30,
     "metadata": {},
     "output_type": "execute_result"
    }
   ],
   "source": [
    "ranarr.min() # Gives the lowest element of array"
   ]
  },
  {
   "cell_type": "code",
   "execution_count": null,
   "metadata": {
    "colab": {
     "base_uri": "https://localhost:8080/"
    },
    "id": "vfSoH8WMx9DZ",
    "outputId": "daa67bb7-fd3a-46cf-c5e7-fa83800879ed"
   },
   "outputs": [
    {
     "data": {
      "text/plain": [
       "1"
      ]
     },
     "execution_count": 31,
     "metadata": {},
     "output_type": "execute_result"
    }
   ],
   "source": [
    "ranarr.argmin() # Index location of lowest element"
   ]
  },
  {
   "cell_type": "code",
   "execution_count": null,
   "metadata": {
    "id": "C0TRUim8JxB1"
   },
   "outputs": [],
   "source": [
    "ran2=ranarr.reshape(2,5)"
   ]
  },
  {
   "cell_type": "code",
   "execution_count": null,
   "metadata": {
    "id": "_2ciOJUSJxB2",
    "outputId": "b158cab6-54a7-4bfc-eda3-5bffeb63cb0b"
   },
   "outputs": [
    {
     "data": {
      "text/plain": [
       "array([[41, 16, 36, 67, 44],\n",
       "       [83, 38, 99, 32, 20]])"
      ]
     },
     "execution_count": 33,
     "metadata": {},
     "output_type": "execute_result"
    }
   ],
   "source": [
    "ran2"
   ]
  },
  {
   "cell_type": "code",
   "execution_count": null,
   "metadata": {
    "id": "wlZ-kEJiJxB2",
    "outputId": "c83c6473-2a62-499b-e157-0f7d099201fd"
   },
   "outputs": [
    {
     "data": {
      "text/plain": [
       "7"
      ]
     },
     "execution_count": 34,
     "metadata": {},
     "output_type": "execute_result"
    }
   ],
   "source": [
    "ran2.argmax()"
   ]
  },
  {
   "cell_type": "code",
   "execution_count": null,
   "metadata": {
    "id": "aTW91XgEJxB3"
   },
   "outputs": [],
   "source": [
    "ran2.max()"
   ]
  },
  {
   "cell_type": "markdown",
   "metadata": {
    "id": "OLabPBY-x9Dg"
   },
   "source": [
    "# Happy Learning!"
   ]
  }
 ],
 "metadata": {
  "colab": {
   "collapsed_sections": [
    "6xCoih_Nx9C5",
    "QDe4ZTxsx9DU"
   ],
   "provenance": []
  },
  "kernelspec": {
   "display_name": "Python [conda env:base] *",
   "language": "python",
   "name": "conda-base-py"
  },
  "language_info": {
   "codemirror_mode": {
    "name": "ipython",
    "version": 3
   },
   "file_extension": ".py",
   "mimetype": "text/x-python",
   "name": "python",
   "nbconvert_exporter": "python",
   "pygments_lexer": "ipython3",
   "version": "3.13.5"
  }
 },
 "nbformat": 4,
 "nbformat_minor": 4
}
